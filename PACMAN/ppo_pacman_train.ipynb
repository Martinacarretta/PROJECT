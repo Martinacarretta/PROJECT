{
 "cells": [
  {
   "cell_type": "code",
   "execution_count": 2,
   "metadata": {},
   "outputs": [
    {
     "name": "stderr",
     "output_type": "stream",
     "text": [
      "C:\\Users\\propietari\\AppData\\Local\\Packages\\PythonSoftwareFoundation.Python.3.10_qbz5n2kfra8p0\\LocalCache\\local-packages\\Python310\\site-packages\\tqdm\\auto.py:21: TqdmWarning: IProgress not found. Please update jupyter and ipywidgets. See https://ipywidgets.readthedocs.io/en/stable/user_install.html\n",
      "  from .autonotebook import tqdm as notebook_tqdm\n"
     ]
    }
   ],
   "source": [
    "import os\n",
    "import numpy as np\n",
    "import cv2\n",
    "import matplotlib.pyplot as plt\n",
    "from PIL import Image\n",
    "\n",
    "# Gymnasium and ALE\n",
    "import gymnasium as gym\n",
    "import ale_py\n",
    "\n",
    "# Stable Baselines3\n",
    "from stable_baselines3 import PPO\n",
    "from stable_baselines3.common.vec_env import VecFrameStack, DummyVecEnv, VecMonitor\n",
    "from stable_baselines3.common.monitor import Monitor\n",
    "from stable_baselines3.common.callbacks import CallbackList, CheckpointCallback, EvalCallback\n",
    "\n",
    "# Wandb Integration\n",
    "import wandb\n",
    "from wandb.integration.sb3 import WandbCallback\n",
    "\n",
    "# Custom constants\n",
    "import ppo_pacman_constants as constants"
   ]
  },
  {
   "cell_type": "code",
   "execution_count": 3,
   "metadata": {},
   "outputs": [],
   "source": [
    "def make_env(env_id, render_mode=None):\n",
    "    def _env():\n",
    "        env = gym.make(env_id, render_mode=render_mode)\n",
    "        env = Monitor(env, allow_early_resets=True)  \n",
    "        return env\n",
    "    return _env"
   ]
  },
  {
   "cell_type": "code",
   "execution_count": 7,
   "metadata": {},
   "outputs": [
    {
     "data": {
      "text/html": [
       "Tracking run with wandb version 0.18.7"
      ],
      "text/plain": [
       "<IPython.core.display.HTML object>"
      ]
     },
     "metadata": {},
     "output_type": "display_data"
    },
    {
     "data": {
      "text/html": [
       "Run data is saved locally in <code>c:\\Users\\propietari\\Downloads\\curs 24-25\\ml paradigms\\PROJ - ale environment\\wandb\\run-20241204_140922-wkovmljx</code>"
      ],
      "text/plain": [
       "<IPython.core.display.HTML object>"
      ]
     },
     "metadata": {},
     "output_type": "display_data"
    },
    {
     "data": {
      "text/html": [
       "Syncing run <strong><a href='https://wandb.ai/marionapla/PPO%20Pacman/runs/wkovmljx' target=\"_blank\">frosty-microwave-40</a></strong> to <a href='https://wandb.ai/marionapla/PPO%20Pacman' target=\"_blank\">Weights & Biases</a> (<a href='https://wandb.me/developer-guide' target=\"_blank\">docs</a>)<br/>"
      ],
      "text/plain": [
       "<IPython.core.display.HTML object>"
      ]
     },
     "metadata": {},
     "output_type": "display_data"
    },
    {
     "data": {
      "text/html": [
       " View project at <a href='https://wandb.ai/marionapla/PPO%20Pacman' target=\"_blank\">https://wandb.ai/marionapla/PPO%20Pacman</a>"
      ],
      "text/plain": [
       "<IPython.core.display.HTML object>"
      ]
     },
     "metadata": {},
     "output_type": "display_data"
    },
    {
     "data": {
      "text/html": [
       " View run at <a href='https://wandb.ai/marionapla/PPO%20Pacman/runs/wkovmljx' target=\"_blank\">https://wandb.ai/marionapla/PPO%20Pacman/runs/wkovmljx</a>"
      ],
      "text/plain": [
       "<IPython.core.display.HTML object>"
      ]
     },
     "metadata": {},
     "output_type": "display_data"
    },
    {
     "name": "stdout",
     "output_type": "stream",
     "text": [
      "Using cpu device\n",
      "Wrapping the env in a VecTransposeImage.\n",
      "Training...\n"
     ]
    },
    {
     "name": "stderr",
     "output_type": "stream",
     "text": [
      "\n",
      "KeyboardInterrupt\n",
      "\n"
     ]
    }
   ],
   "source": [
    "run = wandb.init(\n",
    "    project=\"PPO Pacman\",\n",
    "    config={\n",
    "        \"env_id\": constants.env_id,\n",
    "        'Policy':constants.policy,\n",
    "        \"algorithm\": constants.algorithm,\n",
    "        \"learning_rate\": constants.learning_rate,  \n",
    "        \"gamma\": constants.gamma,\n",
    "        \"gae_lambda\": constants.gae_lambda,\n",
    "        \"n_steps\": constants.n_steps,  \n",
    "        \"ent_coef\": constants.ent_coef, \n",
    "        \"vf_coef\": constants.vf_coef,\n",
    "        \"clip_range\": constants.clip_range, \n",
    "        \"clip_range_vf\": constants.clip_range_vf,\n",
    "        \"n_epochs\": constants.n_epochs, \n",
    "        \"batch_size\": constants.batch_size, \n",
    "        \"max_grad_norm\": constants.max_grad_norm,\n",
    "        \"total_timesteps\": constants.total_timesteps,\n",
    "        \"model_name\": constants.model_name,\n",
    "        \"export_path\": constants.export_path,\n",
    "        \"videos_path\": constants.videos_path,\n",
    "    },\n",
    "    sync_tensorboard=True,\n",
    "    save_code=True,\n",
    ")\n",
    "\n",
    "env_id = \"ALE/Pacman-v5\"  # Pac-Man environment ID\n",
    "env = DummyVecEnv([make_env(env_id) for i in range(8)])  \n",
    "\n",
    "# Define the PPO model\n",
    "model = PPO(\n",
    "    \"CnnPolicy\",  # Convolutional Neural Network policy  \n",
    "    env,\n",
    "    learning_rate = constants.learning_rate,\n",
    "    gamma = constants.gamma,\n",
    "    gae_lambda = constants.gae_lambda,\n",
    "    n_steps = constants.n_steps,\n",
    "    ent_coef = constants.ent_coef,\n",
    "    vf_coef = constants.vf_coef,\n",
    "    clip_range_vf = constants.clip_range_vf,\n",
    "    clip_range = constants.clip_range,\n",
    "    n_epochs = constants.n_epochs,\n",
    "    batch_size = constants.batch_size,\n",
    "    max_grad_norm = constants.max_grad_norm,\n",
    "    verbose = 2,\n",
    "    tensorboard_log = f\"runs/{run.id}\",\n",
    ")\n",
    "\n",
    "eval_env = DummyVecEnv([make_env(env_id) for i in range(1)])  \n",
    "\n",
    "\n",
    "eval_callback = EvalCallback(eval_env, best_model_save_path='./logs/',\n",
    "                             log_path='./logs/', eval_freq=1000,\n",
    "                             deterministic=False, render=False)\n",
    "\n",
    "checkpoint_callback = CheckpointCallback(\n",
    "    save_freq=2000,  # Save the model every 2000 steps\n",
    "    save_path='./checkpoints/',  # Directory to save the checkpoints\n",
    "    name_prefix=\"ppo_pacman\",  # Prefix for the checkpoint filenames\n",
    ")\n",
    "\n",
    "callback_list = CallbackList([WandbCallback(verbose=2), eval_callback, checkpoint_callback])\n",
    "\n",
    "# Train the model\n",
    "print(\"Training...\")\n",
    "model.learn(total_timesteps=constants.total_timesteps, callback=callback_list)\n",
    "\n",
    "# Save the trained model\n",
    "model_path = os.path.join(constants.export_path, constants.model_name)\n",
    "model.save(model_path)\n",
    "wandb.save(model_path + \".zip\")\n",
    "wandb.finish()\n",
    "\n",
    "# Close the training environment\n",
    "env.close()\n",
    "\n"
   ]
  }
 ],
 "metadata": {
  "kernelspec": {
   "display_name": "Python 3",
   "language": "python",
   "name": "python3"
  },
  "language_info": {
   "codemirror_mode": {
    "name": "ipython",
    "version": 3
   },
   "file_extension": ".py",
   "mimetype": "text/x-python",
   "name": "python",
   "nbconvert_exporter": "python",
   "pygments_lexer": "ipython3",
   "version": "3.10.11"
  }
 },
 "nbformat": 4,
 "nbformat_minor": 2
}
